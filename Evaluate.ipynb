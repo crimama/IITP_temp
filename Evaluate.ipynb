{
 "cells": [
  {
   "cell_type": "code",
   "execution_count": 1,
   "id": "3f1a5447-91f8-435f-9054-42f9a4c7a85d",
   "metadata": {},
   "outputs": [],
   "source": [
    "import os \n",
    "import warnings \n",
    "warnings.filterwarnings('ignore')\n",
    "from glob import glob \n",
    "from tqdm import tqdm \n",
    "import pickle \n",
    "import time \n",
    "\n",
    "import pandas as pd \n",
    "import numpy as np \n",
    "from sklearn.metrics import precision_recall_fscore_support\n",
    "from sklearn.metrics import accuracy_score,roc_curve,auc,precision_score,recall_score,f1_score\n",
    "\n",
    "import torch \n",
    "import torch.nn as nn  \n",
    "from torch import Tensor\n",
    "from torch.utils.data import Dataset,DataLoader \n",
    "from torch import optim \n",
    "\n",
    "from src.model import Discriminator,Generator,weights_init\n",
    "from src.Dataset import SwatDataset\n",
    "from src.Options import OPT"
   ]
  },
  {
   "cell_type": "code",
   "execution_count": 2,
   "id": "6bf77dc5-c630-42f9-8ba4-ae5d85466bdb",
   "metadata": {},
   "outputs": [],
   "source": [
    "with open('./Data/pre_data2.pickle','rb') as f:\n",
    "    data = pickle.load(f)\n",
    "opt = OPT()\n",
    "opt.ndf = 32 \n",
    "train_set = SwatDataset(data,'train')\n",
    "test_set = SwatDataset(data,'test')\n",
    "train_loader = DataLoader(train_set,batch_size=opt.batchsize,shuffle=True)\n",
    "test_loader = DataLoader(test_set,batch_size=opt.batchsize,shuffle=True)"
   ]
  },
  {
   "cell_type": "code",
   "execution_count": 6,
   "id": "39057cb7-d961-4330-ba0f-08cb3783dd16",
   "metadata": {},
   "outputs": [
    {
     "data": {
      "text/plain": [
       "[tensor([[[0.0000, 0.0000, 0.0000,  ..., 0.0000, 0.0000, 0.0000],\n",
       "          [0.7340, 0.7285, 0.7214,  ..., 0.0000, 0.0000, 0.0000],\n",
       "          [0.5000, 0.5000, 0.5000,  ..., 0.0000, 0.0000, 0.0000],\n",
       "          ...,\n",
       "          [1.0000, 1.0000, 1.0000,  ..., 0.0000, 0.0000, 0.0000],\n",
       "          [0.0000, 0.0000, 0.0000,  ..., 0.0000, 0.0000, 0.0000],\n",
       "          [1.0000, 1.0000, 1.0000,  ..., 0.0000, 0.0000, 0.0000]],\n",
       " \n",
       "         [[0.9147, 0.9795, 0.9539,  ..., 0.0000, 0.0000, 0.0000],\n",
       "          [0.5128, 0.5182, 0.5218,  ..., 0.0000, 0.0000, 0.0000],\n",
       "          [1.0000, 1.0000, 1.0000,  ..., 0.0000, 0.0000, 0.0000],\n",
       "          ...,\n",
       "          [1.0000, 1.0000, 1.0000,  ..., 0.0000, 0.0000, 0.0000],\n",
       "          [0.0000, 0.0000, 0.0000,  ..., 0.0000, 0.0000, 0.0000],\n",
       "          [1.0000, 1.0000, 1.0000,  ..., 0.0000, 0.0000, 0.0000]],\n",
       " \n",
       "         [[0.9297, 0.9624, 0.9595,  ..., 0.0000, 0.0000, 0.0000],\n",
       "          [0.4396, 0.4404, 0.4407,  ..., 0.5339, 0.5274, 0.5217],\n",
       "          [1.0000, 1.0000, 1.0000,  ..., 0.5000, 0.5000, 0.5000],\n",
       "          ...,\n",
       "          [1.0000, 1.0000, 1.0000,  ..., 1.0000, 1.0000, 1.0000],\n",
       "          [0.0000, 0.0000, 0.0000,  ..., 0.0000, 0.0000, 0.0000],\n",
       "          [1.0000, 1.0000, 1.0000,  ..., 1.0000, 1.0000, 1.0000]],\n",
       " \n",
       "         ...,\n",
       " \n",
       "         [[0.9768, 0.9229, 0.9443,  ..., 0.0000, 0.0000, 0.0000],\n",
       "          [0.5862, 0.5913, 0.5945,  ..., 0.0000, 0.0000, 0.0000],\n",
       "          [1.0000, 1.0000, 1.0000,  ..., 0.0000, 0.0000, 0.0000],\n",
       "          ...,\n",
       "          [1.0000, 1.0000, 1.0000,  ..., 0.0000, 0.0000, 0.0000],\n",
       "          [0.0000, 0.0000, 0.0000,  ..., 0.0000, 0.0000, 0.0000],\n",
       "          [1.0000, 1.0000, 1.0000,  ..., 0.0000, 0.0000, 0.0000]],\n",
       " \n",
       "         [[0.9465, 0.9686, 0.9182,  ..., 0.0000, 0.0000, 0.0000],\n",
       "          [0.4438, 0.4466, 0.4470,  ..., 0.0000, 0.0000, 0.0000],\n",
       "          [1.0000, 1.0000, 1.0000,  ..., 0.0000, 0.0000, 0.0000],\n",
       "          ...,\n",
       "          [1.0000, 1.0000, 1.0000,  ..., 0.0000, 0.0000, 0.0000],\n",
       "          [0.0000, 0.0000, 0.0000,  ..., 0.0000, 0.0000, 0.0000],\n",
       "          [1.0000, 1.0000, 1.0000,  ..., 0.0000, 0.0000, 0.0000]],\n",
       " \n",
       "         [[0.9529, 0.9198, 0.9734,  ..., 0.0000, 0.0000, 0.0000],\n",
       "          [0.4669, 0.4657, 0.4675,  ..., 0.0000, 0.0000, 0.0000],\n",
       "          [1.0000, 1.0000, 1.0000,  ..., 0.0000, 0.0000, 0.0000],\n",
       "          ...,\n",
       "          [1.0000, 1.0000, 1.0000,  ..., 0.0000, 0.0000, 0.0000],\n",
       "          [0.0000, 0.0000, 0.0000,  ..., 0.0000, 0.0000, 0.0000],\n",
       "          [1.0000, 1.0000, 1.0000,  ..., 0.0000, 0.0000, 0.0000]]]),\n",
       " tensor([[0, 0, 0,  ..., 0, 0, 0],\n",
       "         [0, 0, 0,  ..., 0, 0, 0],\n",
       "         [0, 0, 0,  ..., 0, 0, 0],\n",
       "         ...,\n",
       "         [0, 0, 0,  ..., 0, 0, 0],\n",
       "         [0, 0, 0,  ..., 0, 0, 0],\n",
       "         [0, 0, 0,  ..., 0, 0, 0]])]"
      ]
     },
     "execution_count": 6,
     "metadata": {},
     "output_type": "execute_result"
    }
   ],
   "source": [
    "len(a)"
   ]
  },
  {
   "cell_type": "code",
   "execution_count": 23,
   "id": "06ca30fe-5404-41fc-af5b-aa46f0a17947",
   "metadata": {},
   "outputs": [],
   "source": [
    "def predict(dataloader,G,D,opt,scale=True):\n",
    "    device = opt.device\n",
    "    G.eval()\n",
    "    D.eval()\n",
    "    with torch.no_grad():\n",
    "\n",
    "        an_scores = torch.zeros(size=(len(dataloader.dataset),), dtype=torch.float32, device= device)\n",
    "        gt_labels = torch.zeros(size=(len(dataloader.dataset),), dtype=torch.long,    device= device)\n",
    "        #dis_feat = torch.zeros(size=(len(dataloader.dataset),  opt.ndf*16*10), dtype=torch.float32,device= device)\n",
    "\n",
    "\n",
    "        for i, (batch_x,batch_y) in enumerate(dataloader):\n",
    "            batch_x,batch_y = batch_x.type(torch.float32).to(device),batch_y.type(torch.float32).to(device)\n",
    "            fake, latent_i =  G(batch_x)\n",
    "            # error = torch.mean(torch.pow((d_feat.view( input.shape[0],-1)-d_gen_feat.view( input.shape[0],-1)), 2), dim=1)\n",
    "            #\n",
    "            error = torch.mean(\n",
    "                torch.pow(( batch_x.view(batch_x.shape[0], -1) -  fake.view( fake.shape[0], -1)), 2),\n",
    "                dim=1) # reconstruction loss \n",
    "\n",
    "\n",
    "            gt_labels[i* opt.batchsize : i* opt.batchsize+error.size(0)] = torch.max(batch_y,dim=1).values.reshape(error.size(0)) #y \n",
    "            an_scores[i* opt.batchsize : i* opt.batchsize+error.size(0)] = error.reshape(error.size(0)) #y_pred\n",
    "            \n",
    "        # Scale error vector between [0, 1]\n",
    "        if scale:\n",
    "             an_scores = (an_scores - torch.min(an_scores)) / (torch.max(an_scores) - torch.min(an_scores))\n",
    "\n",
    "        y_= gt_labels.detach().cpu().numpy()\n",
    "        y_pred = an_scores.detach().cpu().numpy()\n",
    "\n",
    "        return y_,y_pred\n",
    "#def evaluate(train_loader,test_loader):\n",
    "def evaluate(train_loader,test_loader,G,D,THRES=99):\n",
    "    train_y,train_y_pred = predict(train_loader,G,D,opt)\n",
    "    test_y,test_y_pred = predict(test_loader,G,D,opt)\n",
    "    thres = np.percentile(np.concatenate([train_y,train_y_pred]),THRES)\n",
    "    \n",
    "    \n",
    "    y_pred_thres = pd.Series(test_y_pred).apply(lambda x : 1 if x > thres else 0).values\n",
    "    #auc = accuracy_score(y,y_pred)\n",
    "    precision, recall, f_score, support = precision_recall_fscore_support(test_y, y_pred_thres,\n",
    "                                                                                average='binary')\n",
    "    fpr,tpr,thr = roc_curve(test_y,test_y_pred)\n",
    "    auroc = auc(fpr,tpr)\n",
    "    \n",
    "    return precision, recall, f_score, auroc"
   ]
  },
  {
   "cell_type": "code",
   "execution_count": 29,
   "id": "96345d06-41c2-436c-93c1-cb65f89baf7d",
   "metadata": {},
   "outputs": [],
   "source": [
    "#def model_load():\n",
    "device = 'cuda:0'\n",
    "\n",
    "D = torch.load('/data/IITP/BeatGAN_mine2/save_models/Base01/D.pt').to(device)\n",
    "G = torch.load('/data/IITP/BeatGAN_mine2/save_models/Base01/G.pt').to(device)"
   ]
  },
  {
   "cell_type": "code",
   "execution_count": 37,
   "id": "27526f66",
   "metadata": {},
   "outputs": [
    {
     "name": "stdout",
     "output_type": "stream",
     "text": [
      "0.28148508551966767 1.0 0.4393107476635514 0.6086076400558267\n"
     ]
    }
   ],
   "source": [
    "precision, recall, f_score, auroc = evaluate(train_loader,test_loader,G,D,THRES=50)\n",
    "print(precision, recall, f_score, auroc)"
   ]
  },
  {
   "cell_type": "code",
   "execution_count": 35,
   "id": "f06bc53d",
   "metadata": {},
   "outputs": [
    {
     "data": {
      "text/plain": [
       "(array([8.8634e+04, 4.3000e+02, 2.2077e+04, 1.8402e+04, 6.9300e+02,\n",
       "        8.2000e+01, 7.3000e+01, 8.1000e+01, 1.3200e+02, 2.9920e+03]),\n",
       " array([0. , 0.1, 0.2, 0.3, 0.4, 0.5, 0.6, 0.7, 0.8, 0.9, 1. ],\n",
       "       dtype=float32),\n",
       " <BarContainer object of 10 artists>)"
      ]
     },
     "execution_count": 35,
     "metadata": {},
     "output_type": "execute_result"
    },
    {
     "data": {
      "image/png": "[encoded data removed]",
      "text/plain": [
       "<Figure size 640x480 with 1 Axes>"
      ]
     },
     "metadata": {},
     "output_type": "display_data"
    }
   ],
   "source": [
    "import matplotlib.pyplot as plt \n",
    "\n",
    "plt.hist(y_pred)\n",
    "plt.hist(test_y_pred)"
   ]
  },
  {
   "cell_type": "code",
   "execution_count": 63,
   "id": "b42c246c-721f-4718-a949-3289807f0dc8",
   "metadata": {},
   "outputs": [],
   "source": [
    "mse_criterion = nn.MSELoss()\n",
    "G.eval()\n",
    "an_score = [] # y_pred \n",
    "gt_label = [] # y \n",
    "for batch_x,batch_y in test_loader:\n",
    "    batch_x,batch_y = batch_x.type(torch.float32).to(device),batch_y.type(torch.float32).to(device)\n",
    "    \n",
    "    #inference \n",
    "    with torch.no_grad():\n",
    "        fake,latent_i = G(batch_x)\n",
    "    err = torch.mean(torch.mean(((batch_x - fake)**2),dim=1),dim=1) #an score \n",
    "    \n",
    "    #save \n",
    "    an_score.extend(err.detach().cpu().numpy())\n",
    "    gt_label.extend(torch.max(batch_y,dim=1).values.detach().cpu().numpy())\n",
    "    \n",
    "an_score = (np.array(an_score)-np.min(an_score))/(np.max(an_score)-np.min(an_score))\n",
    "gt_label = np.array(gt_label)\n",
    "test_y,test_y_pred = gt_label,an_score"
   ]
  },
  {
   "cell_type": "code",
   "execution_count": null,
   "id": "5c6e8bb4",
   "metadata": {},
   "outputs": [],
   "source": [
    "from src.metric import evaluate\n",
    "auc_prc,roc_auc,best_threshold,best_f1 = evaluate(test_y,test_y_pred)"
   ]
  },
  {
   "cell_type": "code",
   "execution_count": null,
   "id": "5890a4fa",
   "metadata": {},
   "outputs": [],
   "source": [
    "thres = 0.05\n",
    "y_pred = pd.Series(test_y_pred).apply(lambda x : 1 if x > thres else 0)\n",
    "results = [] \n",
    "for metric in [recall_score,precision_score,f1_score]:\n",
    "    results.append(metric(test_y,y_pred))\n",
    "print(results)"
   ]
  }
 ],
 "metadata": {
  "kernelspec": {
   "display_name": "Python 3 (ipykernel)",
   "language": "python",
   "name": "python3"
  }
 },
 "nbformat": 4,
 "nbformat_minor": 5
}
